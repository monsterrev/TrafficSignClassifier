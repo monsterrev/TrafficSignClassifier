{
 "cells": [
  {
   "cell_type": "markdown",
   "metadata": {},
   "source": [
    "# Self-Driving Car Engineer Nanodegree\n",
    "\n",
    "## Deep Learning\n",
    "\n",
    "## Project: Build a Traffic Sign Recognition Classifier\n",
    "\n",
    "In this notebook, a template is provided for you to implement your functionality in stages, which is required to successfully complete this project. If additional code is required that cannot be included in the notebook, be sure that the Python code is successfully imported and included in your submission if necessary. \n",
    "\n",
    "> **Note**: Once you have completed all of the code implementations, you need to finalize your work by exporting the iPython Notebook as an HTML document. Before exporting the notebook to html, all of the code cells need to have been run so that reviewers can see the final implementation and output. You can then export the notebook by using the menu above and navigating to  \\n\",\n",
    "    \"**File -> Download as -> HTML (.html)**. Include the finished document along with this notebook as your submission. \n",
    "\n",
    "In addition to implementing code, there is a writeup to complete. The writeup should be completed in a separate file, which can be either a markdown file or a pdf document. There is a [write up template](https://github.com/udacity/CarND-Traffic-Sign-Classifier-Project/blob/master/writeup_template.md) that can be used to guide the writing process. Completing the code template and writeup template will cover all of the [rubric points](https://review.udacity.com/#!/rubrics/481/view) for this project.\n",
    "\n",
    "The [rubric](https://review.udacity.com/#!/rubrics/481/view) contains \"Stand Out Suggestions\" for enhancing the project beyond the minimum requirements. The stand out suggestions are optional. If you decide to pursue the \"stand out suggestions\", you can include the code in this Ipython notebook and also discuss the results in the writeup file.\n",
    "\n",
    "\n",
    ">**Note:** Code and Markdown cells can be executed using the **Shift + Enter** keyboard shortcut. In addition, Markdown cells can be edited by typically double-clicking the cell to enter edit mode."
   ]
  },
  {
   "cell_type": "markdown",
   "metadata": {},
   "source": [
    "---\n",
    "## Step 0: Load The Data"
   ]
  },
  {
   "cell_type": "code",
   "execution_count": 2,
   "metadata": {
    "collapsed": true
   },
   "outputs": [],
   "source": [
    "# Load pickled data\n",
    "import pickle\n",
    "\n",
    "# TODO: Fill this in based on where you saved the training and testing data\n",
    "\n",
    "training_file = 'train.p';\n",
    "validation_file='valid.p';\n",
    "testing_file = 'test.p';\n",
    "\n",
    "with open(training_file, mode='rb') as f:\n",
    "    train = pickle.load(f)\n",
    "with open(validation_file, mode='rb') as f:\n",
    "    valid = pickle.load(f)\n",
    "with open(testing_file, mode='rb') as f:\n",
    "    test = pickle.load(f)\n",
    "    \n",
    "X_train, y_train = train['features'], train['labels']\n",
    "X_valid, y_valid = valid['features'], valid['labels']\n",
    "X_test, y_test = test['features'], test['labels']"
   ]
  },
  {
   "cell_type": "markdown",
   "metadata": {},
   "source": [
    "---\n",
    "\n",
    "## Step 1: Dataset Summary & Exploration\n",
    "\n",
    "The pickled data is a dictionary with 4 key/value pairs:\n",
    "\n",
    "- `'features'` is a 4D array containing raw pixel data of the traffic sign images, (num examples, width, height, channels).\n",
    "- `'labels'` is a 1D array containing the label/class id of the traffic sign. The file `signnames.csv` contains id -> name mappings for each id.\n",
    "- `'sizes'` is a list containing tuples, (width, height) representing the original width and height the image.\n",
    "- `'coords'` is a list containing tuples, (x1, y1, x2, y2) representing coordinates of a bounding box around the sign in the image. **THESE COORDINATES ASSUME THE ORIGINAL IMAGE. THE PICKLED DATA CONTAINS RESIZED VERSIONS (32 by 32) OF THESE IMAGES**\n",
    "\n",
    "Complete the basic data summary below. Use python, numpy and/or pandas methods to calculate the data summary rather than hard coding the results. For example, the [pandas shape method](http://pandas.pydata.org/pandas-docs/stable/generated/pandas.DataFrame.shape.html) might be useful for calculating some of the summary results. "
   ]
  },
  {
   "cell_type": "markdown",
   "metadata": {},
   "source": [
    "### Provide a Basic Summary of the Data Set Using Python, Numpy and/or Pandas"
   ]
  },
  {
   "cell_type": "code",
   "execution_count": 3,
   "metadata": {},
   "outputs": [
    {
     "name": "stdout",
     "output_type": "stream",
     "text": [
      "Number of training examples = 34799\n",
      "Number of testing examples = 12630\n",
      "Image data shape = (32, 32, 3)\n",
      "Number of classes = 43\n",
      "Number of Validation examples = 4410\n"
     ]
    }
   ],
   "source": [
    "### Replace each question mark with the appropriate value. \n",
    "### Use python, pandas or numpy methods rather than hard coding the results\n",
    "import numpy as np;\n",
    "# TODO: Number of training examples\n",
    "n_train = X_train.shape[0]\n",
    "\n",
    "# TODO: Number of validation examples\n",
    "n_validation = X_valid.shape[0]\n",
    "\n",
    "# TODO: Number of testing examples.\n",
    "n_test = X_test.shape[0]\n",
    "\n",
    "# TODO: What's the shape of an traffic sign image?\n",
    "image_shape = X_train.shape[1:]\n",
    "\n",
    "# TODO: How many unique classes/labels there are in the dataset.\n",
    "    \n",
    "n_classes = np.unique(y_train).size;\n",
    "\n",
    "print(\"Number of training examples =\", n_train)\n",
    "print(\"Number of testing examples =\", n_test)\n",
    "print(\"Image data shape =\", image_shape)\n",
    "print(\"Number of classes =\", n_classes)\n",
    "print(\"Number of Validation examples =\", n_validation)"
   ]
  },
  {
   "cell_type": "markdown",
   "metadata": {},
   "source": [
    "### Include an exploratory visualization of the dataset"
   ]
  },
  {
   "cell_type": "markdown",
   "metadata": {},
   "source": [
    "Visualize the German Traffic Signs Dataset using the pickled file(s). This is open ended, suggestions include: plotting traffic sign images, plotting the count of each sign, etc. \n",
    "\n",
    "The [Matplotlib](http://matplotlib.org/) [examples](http://matplotlib.org/examples/index.html) and [gallery](http://matplotlib.org/gallery.html) pages are a great resource for doing visualizations in Python.\n",
    "\n",
    "**NOTE:** It's recommended you start with something simple first. If you wish to do more, come back to it after you've completed the rest of the sections. It can be interesting to look at the distribution of classes in the training, validation and test set. Is the distribution the same? Are there more examples of some classes than others?"
   ]
  },
  {
   "cell_type": "code",
   "execution_count": 4,
   "metadata": {},
   "outputs": [
    {
     "name": "stdout",
     "output_type": "stream",
     "text": [
      "33\n"
     ]
    },
    {
     "data": {
      "image/png": "[encoded data removed]",
      "text/plain": [
       "<matplotlib.figure.Figure at 0x7f75b4109470>"
      ]
     },
     "metadata": {},
     "output_type": "display_data"
    },
    {
     "data": {
      "image/png": "[encoded data removed]",
      "text/plain": [
       "<matplotlib.figure.Figure at 0x7f75d8dbeeb8>"
      ]
     },
     "metadata": {},
     "output_type": "display_data"
    }
   ],
   "source": [
    "### Data exploration visualization code goes here.\n",
    "### Feel free to use as many code cells as needed.\n",
    "import matplotlib.pyplot as plt\n",
    "import random\n",
    "# Visualizations will be shown in the notebook.\n",
    "%matplotlib inline\n",
    "# plotting the count of each sign\n",
    "plt.hist(y_train,n_classes ); # input, number of bins\n",
    "\n",
    "# showing a random image\n",
    "index = random.randint(0, len(X_train))\n",
    "image = X_train[index].squeeze()\n",
    "\n",
    "plt.figure(figsize=(1,1))\n",
    "plt.imshow(image, cmap=\"gray\")\n",
    "print(y_train[index])"
   ]
  },
  {
   "cell_type": "markdown",
   "metadata": {},
   "source": [
    "###### Data Analysis\n",
    "\n",
    "Here we training set classes are bit skewed, some of classes have more examples than others. This might lead to the neural model overfitted for classes with large number of examples and underfit for the classes with insufficient examples. To overcome this problem I thought of generating some data for the classes below threshold and bring their number to the mean."
   ]
  },
  {
   "cell_type": "markdown",
   "metadata": {},
   "source": [
    "###### Generating fake data\n",
    "The idea is to increase the number of examples of images for certain classes particularly the ones with less number of examples (below mean is a good measure). Checking for the classes of the images by iterating through the images and generate that many number of examples for that class that helps reach the mean. The images are generated from existing images by using looping through to pick a random angle to rotate using scipy's rotate function.\n",
    "\n",
    "- These new set of images are again split between training and validation set to prevent overfitting of the model. train_test_split(X_train, y_train, stratify = y_train, test_size=0.1..) function is used to split the data. The newly generated training and validation data is added to the existing data set."
   ]
  },
  {
   "cell_type": "code",
   "execution_count": 5,
   "metadata": {},
   "outputs": [
    {
     "name": "stdout",
     "output_type": "stream",
     "text": [
      "Generating fake data.\n",
      "Fake data generated.\n",
      "Number of Validation examples = (9082,)\n"
     ]
    },
    {
     "data": {
      "image/png": "[encoded data removed]",
      "text/plain": [
       "<matplotlib.figure.Figure at 0x7f759ba6a2e8>"
      ]
     },
     "metadata": {},
     "output_type": "display_data"
    }
   ],
   "source": [
    "from scipy import ndimage\n",
    "import random\n",
    "from sklearn.utils import shuffle;\n",
    "\n",
    "#Reference: Stack Overflow\n",
    "\n",
    "num_imagesClass = np.bincount(y_train)\n",
    "mean_pics = int(np.mean(num_imagesClass))\n",
    "min_desired = int(mean_pics)\n",
    "\n",
    "print('Generating fake data.')\n",
    "\n",
    "# Angles to be used to rotate images in additional data made\n",
    "angles = [-10, 10, -15, 15, -20, 20]\n",
    "\n",
    "# Iterate through each class\n",
    "for i in range(len(num_imagesClass)):\n",
    "    \n",
    "    # Check if less data than the mean\n",
    "    if num_imagesClass[i] < min_desired:\n",
    "        \n",
    "        # Count how many additional pictures we want\n",
    "        new_wanted = min_desired - num_imagesClass[i]\n",
    "        picture = np.where(y_train == i)\n",
    "        more_X = []\n",
    "        more_y = []\n",
    "        \n",
    "        # Make the number of additional pictures needed to arrive at the mean\n",
    "        for num in range(new_wanted):\n",
    "            \n",
    "            # Rotate images and append new ones to more_X, append the class to more_y\n",
    "            more_X.append(ndimage.rotate(X_train[picture][random.randint(0,num_imagesClass[i] - 1)], random.choice(angles), reshape=False))\n",
    "            more_y.append(i)\n",
    "        \n",
    "        # Append the pictures generated for each class \n",
    "        X_train = np.append(X_train, np.array(more_X), axis=0)\n",
    "        y_train = np.append(y_train, np.array(more_y), axis=0)\n",
    "        \n",
    "print(\"Fake data generated.\");\n",
    "      \n",
    "plt.hist(y_train,n_classes );\n",
    "\n",
    "\n",
    "# Splitting the training dataset into training and validation data\n",
    "from sklearn.model_selection import train_test_split\n",
    "\n",
    "# Shuffing\n",
    "X_train, y_train = shuffle(X_train, y_train)\n",
    "\n",
    "# Splitting it to prevent overfitting\n",
    "X_train, X_MoreValid, y_train, y_MoreValid = train_test_split(X_train, y_train, stratify = y_train, test_size=0.1, random_state=25);\n",
    "X_valid=np.append(X_valid,np.array(X_MoreValid), axis=0)\n",
    "y_valid=np.append(y_valid,np.array(y_MoreValid), axis=0)\n",
    "\n",
    "print(\"Number of Validation examples =\", y_valid.shape)\n"
   ]
  },
  {
   "cell_type": "raw",
   "metadata": {},
   "source": [
    "Now the data looks more balanced with around mean number of examples for each classes. This will train the model in a better manner and would get us better results."
   ]
  },
  {
   "cell_type": "markdown",
   "metadata": {},
   "source": [
    "----\n",
    "\n",
    "## Step 2: Design and Test a Model Architecture\n",
    "\n",
    "Design and implement a deep learning model that learns to recognize traffic signs. Train and test your model on the [German Traffic Sign Dataset](http://benchmark.ini.rub.de/?section=gtsrb&subsection=dataset).\n",
    "\n",
    "The LeNet-5 implementation shown in the [classroom](https://classroom.udacity.com/nanodegrees/nd013/parts/fbf77062-5703-404e-b60c-95b78b2f3f9e/modules/6df7ae49-c61c-4bb2-a23e-6527e69209ec/lessons/601ae704-1035-4287-8b11-e2c2716217ad/concepts/d4aca031-508f-4e0b-b493-e7b706120f81) at the end of the CNN lesson is a solid starting point. You'll have to change the number of classes and possibly the preprocessing, but aside from that it's plug and play! \n",
    "\n",
    "With the LeNet-5 solution from the lecture, you should expect a validation set accuracy of about 0.89. To meet specifications, the validation set accuracy will need to be at least 0.93. It is possible to get an even higher accuracy, but 0.93 is the minimum for a successful project submission. \n",
    "\n",
    "There are various aspects to consider when thinking about this problem:\n",
    "\n",
    "- Neural network architecture (is the network over or underfitting?)\n",
    "- Play around preprocessing techniques (normalization, rgb to grayscale, etc)\n",
    "- Number of examples per label (some have more than others).\n",
    "- Generate fake data.\n",
    "\n",
    "Here is an example of a [published baseline model on this problem](http://yann.lecun.com/exdb/publis/pdf/sermanet-ijcnn-11.pdf). It's not required to be familiar with the approach used in the paper but, it's good practice to try to read papers like these."
   ]
  },
  {
   "cell_type": "markdown",
   "metadata": {},
   "source": [
    "### Pre-process the Data Set (normalization, grayscale, etc.)"
   ]
  },
  {
   "cell_type": "markdown",
   "metadata": {},
   "source": [
    "Minimally, the image data should be normalized so that the data has mean zero and equal variance. For image data, `(pixel - 128)/ 128` is a quick way to approximately normalize the data and can be used in this project. \n",
    "\n",
    "Other pre-processing steps are optional. You can try different techniques to see if it improves performance. \n",
    "\n",
    "Use the code cell (or multiple code cells, if necessary) to implement the first step of your project."
   ]
  },
  {
   "cell_type": "code",
   "execution_count": 6,
   "metadata": {
    "collapsed": true
   },
   "outputs": [],
   "source": [
    "### Preprocess the data here. It is required to normalize the data. Other preprocessing steps could include \n",
    "### Feel free to use as many code cells as needed.\n",
    "\n",
    "import cv2;\n",
    "from numpy import newaxis\n",
    "\n",
    "def preprocessing(images):\n",
    "    grayimages = grayScaling(images);\n",
    "    return normalize(grayimages);\n",
    "    \n",
    "def grayScaling(images):\n",
    "    grayimages=[];\n",
    "    for image in images:\n",
    "        grayimages.append(grayscale(image));\n",
    "    y=np.array(grayimages);\n",
    "    return y[...,newaxis];\n",
    "\n",
    "#normalize\n",
    "def normalize(images):\n",
    "    #images -= np.mean(images, axis = 0);\n",
    "    #images /= np.std(images, axis = 0);\n",
    "    #return images;\n",
    "    return images / 255 * 0.8 + 0.1\n",
    "    \n",
    "\n",
    "### converting to grayscale, etc.\n",
    "def grayscale(img):\n",
    "    return cv2.cvtColor(img, cv2.COLOR_BGR2GRAY);"
   ]
  },
  {
   "cell_type": "markdown",
   "metadata": {},
   "source": [
    "###### PreProcessing\n",
    "To preProcess the data is to prepare the data to be fed to the neural network or any other model. First thing in preprocessing was to :\n",
    "1. Normalize: Any dataset would contain some noise with some very large values and some very small values. These datapoints lead to divergence of the model or might lead to convergence to some local minima. Normalizing the values help in avoiding these problems, keeping the values between .1 - .9. \n",
    "\n",
    "2. RGB to GRAY: Data had 3 channels RGB, but looking at the examples and the problem statement, and from previous project I realized that this particular problem of classification does not actually require to provess 3 channels. So as to avoid complexity and to speedup the processing, I converted the data to Grayscale such that model is able to focus on important features of the images.\n",
    "\n",
    "3. Reformat: Also we need to ensure that all the images follow the same size as expected by training model. This is to convert the data into row format such that it becomes easier to extract the features and model can be trained on those features. \n",
    "a. After grayscale it was required to convert it back into the array.\n",
    "b. Also, during the grayscale its shape got changed to 32*32, I used numpy library to convert it back to 32*32*1.\n",
    "Another important part was neural networks required the input to be of the shape 32*32*1. Later for test data which had images of different sizes, I used numpy resize function to align its size according to the model.\n"
   ]
  },
  {
   "cell_type": "markdown",
   "metadata": {},
   "source": [
    "### Model Architecture"
   ]
  },
  {
   "cell_type": "code",
   "execution_count": 7,
   "metadata": {},
   "outputs": [
    {
     "name": "stdout",
     "output_type": "stream",
     "text": [
      "#PreProcessing....\n",
      "#PreProcessing complete ...Shape   (42042, 32, 32, 1)\n",
      "#PreProcessing complete ...ValidationData Shape   (9082, 32, 32, 1)\n",
      "#PreProcessing complete ...TestingData Shape   (12630, 32, 32, 1)\n"
     ]
    }
   ],
   "source": [
    "### Define your architecture here.\n",
    "print(\"#PreProcessing....\");\n",
    "X_train = preprocessing(X_train);\n",
    "print(\"#PreProcessing complete ...Shape  \",X_train.shape);\n",
    "\n",
    "X_valid = preprocessing(X_valid);\n",
    "print(\"#PreProcessing complete ...ValidationData Shape  \",X_valid.shape);\n",
    "X_test = preprocessing(X_test);\n",
    "print(\"#PreProcessing complete ...TestingData Shape  \",X_test.shape);\n",
    "### Feel free to use as many code cells as needed."
   ]
  },
  {
   "cell_type": "markdown",
   "metadata": {},
   "source": [
    "### Train, Validate and Test the Model"
   ]
  },
  {
   "cell_type": "markdown",
   "metadata": {},
   "source": [
    "A validation set can be used to assess how well the model is performing. A low accuracy on the training and validation\n",
    "sets imply underfitting. A high accuracy on the training set but low accuracy on the validation set implies overfitting."
   ]
  },
  {
   "cell_type": "code",
   "execution_count": 8,
   "metadata": {},
   "outputs": [
    {
     "name": "stdout",
     "output_type": "stream",
     "text": [
      "#Building the Model\n"
     ]
    }
   ],
   "source": [
    "### Train your model here.\n",
    "from tensorflow.contrib.layers import flatten;\n",
    "\n",
    "print(\"#Building the Model\");\n",
    "def neuralModel(x):    \n",
    "    # Arguments used for tf.truncated_normal, randomly defines variables for the weights and biases for each layer\n",
    "    mu = 0\n",
    "    sigma = 0.1\n",
    "    \n",
    "    # SOLUTION: Layer 1: Convolutional. Input = 32x32x1. Output = 28x28x6.\n",
    "    conv1_W = tf.Variable(tf.truncated_normal(shape=(5, 5, 1, 6), mean = mu, stddev = sigma))\n",
    "    conv1_b = tf.Variable(tf.zeros(6))\n",
    "    conv1   = tf.nn.conv2d(x, conv1_W, strides=[1, 1, 1, 1], padding='VALID') + conv1_b\n",
    "\n",
    "    # SOLUTION: Activation.\n",
    "    conv1 = tf.nn.relu(conv1)\n",
    "\n",
    "    # SOLUTION: Pooling. Input = 28x28x6. Output = 14x14x6.\n",
    "    conv1 = tf.nn.avg_pool(conv1, ksize=[1, 2, 2, 1], strides=[1, 2, 2, 1], padding='VALID')\n",
    "\n",
    "    # SOLUTION: Layer 2: Convolutional. Output = 10x10x16.\n",
    "    conv2_W = tf.Variable(tf.truncated_normal(shape=(5, 5, 6, 16), mean = mu, stddev = sigma))\n",
    "    conv2_b = tf.Variable(tf.zeros(16))\n",
    "    conv2   = tf.nn.conv2d(conv1, conv2_W, strides=[1, 1, 1, 1], padding='VALID') + conv2_b\n",
    "    \n",
    "    # SOLUTION: Activation.\n",
    "    conv2 = tf.nn.relu(conv2)\n",
    "\n",
    "    # SOLUTION: Pooling. Input = 10x10x16. Output = 5x5x16.\n",
    "    conv2 = tf.nn.avg_pool(conv2, ksize=[1, 2, 2, 1], strides=[1, 2, 2, 1], padding='VALID')\n",
    "\n",
    "    # SOLUTION: Flatten. Input = 5x5x16. Output = 400.\n",
    "    fc0   = flatten(conv2)\n",
    "    \n",
    "    # SOLUTION: Layer 3: Fully Connected. Input = 400. Output = 120.\n",
    "    fc1_W = tf.Variable(tf.truncated_normal(shape=(400, 120), mean = mu, stddev = sigma))\n",
    "    fc1_b = tf.Variable(tf.zeros(120))\n",
    "    fc1   = tf.matmul(fc0, fc1_W) + fc1_b\n",
    "    \n",
    "    # SOLUTION: Activation.\n",
    "    fc1    = tf.nn.relu(fc1)\n",
    "    fc1 = tf.nn.dropout(fc1, keep_prob)\n",
    "    # SOLUTION: Layer 4: Fully Connected. Input = 120. Output = 84.\n",
    "    fc2_W  = tf.Variable(tf.truncated_normal(shape=(120, 84), mean = mu, stddev = sigma))\n",
    "    fc2_b  = tf.Variable(tf.zeros(84))\n",
    "    fc2    = tf.matmul(fc1, fc2_W) + fc2_b\n",
    "    \n",
    "    # SOLUTION: Activation.\n",
    "    fc2    = tf.nn.relu(fc2)\n",
    "    fc2 = tf.nn.dropout(fc2, keep_prob)\n",
    "    # SOLUTION: Layer 5: Fully Connected. Input = 84. Output = 43.\n",
    "    fc3_W  = tf.Variable(tf.truncated_normal(shape=(84, 43), mean = mu, stddev = sigma))\n",
    "    fc3_b  = tf.Variable(tf.zeros(43))\n",
    "    logits = tf.matmul(fc2, fc3_W) + fc3_b\n",
    "    \n",
    "    return logits;\n"
   ]
  },
  {
   "cell_type": "markdown",
   "metadata": {},
   "source": [
    "###### Model Architecture\n",
    "\n",
    "The model is similar to LeNet model described in the lectures which includes couple of convolution layers with averaging pooling (avg_pool worked better than max_pool as in max_pool we loose some of the feature information as it takes max value of the pool but with avg_pool we do involve characteristics of all features, hence loose less information which leads to little better results). The pooling layer's function is to progressively reduce the spatial size of the representation to reduce the amount of parameters and computation in the network, and hence to also control overfitting. The Pooling Layer operates independently on every depth slice of the input and resizes it spatially. The convolution layers are followed by full mesh topology with the addition of drop outs as the regulation technique to prevent overfitting. This improved the performance upto 3-5%. \n",
    "\n",
    "Layer 1 - Convolutional. Input = 32x32x1. Output = 28x28x6 with relu for Activation. \n",
    "Avg-Pooling. Input = 28x28x6. Output = 14x14x6.\n",
    "\n",
    "Layer 2 - Convolutional. Output = 10x10x16. with Relu for activation followed by pooling.\n",
    "AvgPooling - Input = 10x10x16. Output = 5x5x16.\n",
    "\n",
    "We flatten the output and use the fully connected network beyond this layer. \n",
    "\n",
    "Layer 3: Fully Connected. Input = 400. Output = 120. Then Relu and dropout with prob .7. The value of .7 is obtained using trial and error, this gives the best performance and the explaination would be it is the optimul balance between underfitting and overfitting.\n",
    "\n",
    "Layer 4: Fully Connected. Input = 120. Output = 84 with relu for Activation and dropout with prob = 0.7\n",
    "\n",
    "Layer 5: Fully Connected. Input = 84. Output = 43 this returns the logit."
   ]
  },
  {
   "cell_type": "markdown",
   "metadata": {},
   "source": [
    "###### Features and Labels"
   ]
  },
  {
   "cell_type": "code",
   "execution_count": 9,
   "metadata": {
    "collapsed": true
   },
   "outputs": [],
   "source": [
    "import tensorflow as tf\n",
    "x = tf.placeholder(tf.float32, (None, 32, 32, 1))\n",
    "y = tf.placeholder(tf.int32, (None))\n",
    "keep_prob = tf.placeholder(tf.float32)\n",
    "one_hot_y = tf.one_hot(y, n_classes);\n",
    "\n",
    "EPOCHS = 25\n",
    "BATCH_SIZE = 128"
   ]
  },
  {
   "cell_type": "markdown",
   "metadata": {},
   "source": [
    "###### Training Pipeline"
   ]
  },
  {
   "cell_type": "code",
   "execution_count": 27,
   "metadata": {
    "collapsed": true
   },
   "outputs": [],
   "source": [
    "rate = 0.005\n",
    "\n",
    "logits = neuralModel(x)\n",
    "cross_entropy = tf.nn.softmax_cross_entropy_with_logits(labels=one_hot_y, logits=logits)\n",
    "loss_operation = tf.reduce_mean(cross_entropy)\n",
    "optimizer = tf.train.AdamOptimizer(learning_rate = rate)\n",
    "training_operation = optimizer.minimize(loss_operation)"
   ]
  },
  {
   "cell_type": "markdown",
   "metadata": {},
   "source": [
    "###### Training Parameters\n",
    "Most of the parameters are same as of the LeNet architecture.\n",
    "\n",
    "1. Learning Rate : .005 Increasing/Decreasing the rate decreases the accuracy of the model. Learning rate is used to help the model converge towards the minima; if we rate is too high, we might miss it and if it is too less it would be very slow and would require more processing and more time. \n",
    "\n",
    "Reference: https://stackoverflow.com/questions/36162180/gradient-descent-vs-adagrad-vs-momentum-in-tensorflow\n",
    "2. Optimizer: AdamOptimizer seems to work better than gradient descent. In comparison to SGD every parameter has different learning rate and model stores that information. It also stores the momentum changes for each of them separately. It fixes the momentum problem with SGD where when we are very close to the goal, our momentum in most of the cases is very high and it does not know that it should slow down. This can cause it to miss or oscillate around the minima.\n",
    "\n",
    "3. softmax function\n",
    "4. Epochs 20: With each epoch the model was learning better until it started memorizing. The accuracy kept improving until 20 epochs after which it decreases. 20 works best.\n",
    "\n",
    "5. Batch_size: 128 This was derived from LeNet. I tried few batch sizes but 128 gave the best results.\n",
    "\n",
    "6. Mean and Standard Deviation: 0 and .1 respectively. Model is generally designed to keep mean around 0 and equal variances. "
   ]
  },
  {
   "cell_type": "markdown",
   "metadata": {},
   "source": [
    "##### Model Evaluation"
   ]
  },
  {
   "cell_type": "code",
   "execution_count": 28,
   "metadata": {
    "collapsed": true
   },
   "outputs": [],
   "source": [
    "### Calculate and report the accuracy on the training and validation set.\n",
    "### Once a final model architecture is selected, \n",
    "### the accuracy on the test set should be calculated and reported as well.\n",
    "### Feel free to use as many code cells as needed.\n",
    "correct_prediction = tf.equal(tf.argmax(logits, 1), tf.argmax(one_hot_y, 1))\n",
    "accuracy_operation = tf.reduce_mean(tf.cast(correct_prediction, tf.float32))\n",
    "saver = tf.train.Saver()\n",
    "\n",
    "def evaluate(X_data, y_data):\n",
    "    num_examples = len(X_data)\n",
    "    total_accuracy = 0\n",
    "    sess = tf.get_default_session()\n",
    "    for offset in range(0, num_examples, BATCH_SIZE):\n",
    "        batch_x, batch_y = X_data[offset:offset+BATCH_SIZE], y_data[offset:offset+BATCH_SIZE]\n",
    "        accuracy = sess.run(accuracy_operation, feed_dict={x: batch_x, y: batch_y, keep_prob : 0.7})\n",
    "        total_accuracy += (accuracy * len(batch_x))\n",
    "    return total_accuracy / num_examples"
   ]
  },
  {
   "cell_type": "markdown",
   "metadata": {},
   "source": [
    "###### Training the Model"
   ]
  },
  {
   "cell_type": "code",
   "execution_count": 29,
   "metadata": {},
   "outputs": [
    {
     "name": "stdout",
     "output_type": "stream",
     "text": [
      "Training...\n",
      "\n",
      "EPOCH 1 ...\n",
      "Validation Accuracy = 0.686\n",
      "\n",
      "EPOCH 2 ...\n",
      "Validation Accuracy = 0.799\n",
      "\n",
      "EPOCH 3 ...\n",
      "Validation Accuracy = 0.844\n",
      "\n",
      "EPOCH 4 ...\n",
      "Validation Accuracy = 0.863\n",
      "\n",
      "EPOCH 5 ...\n",
      "Validation Accuracy = 0.869\n",
      "\n",
      "EPOCH 6 ...\n",
      "Validation Accuracy = 0.872\n",
      "\n",
      "EPOCH 7 ...\n",
      "Validation Accuracy = 0.893\n",
      "\n",
      "EPOCH 8 ...\n",
      "Validation Accuracy = 0.879\n",
      "\n",
      "EPOCH 9 ...\n",
      "Validation Accuracy = 0.901\n",
      "\n",
      "EPOCH 10 ...\n",
      "Validation Accuracy = 0.906\n",
      "\n",
      "EPOCH 11 ...\n",
      "Validation Accuracy = 0.918\n",
      "\n",
      "EPOCH 12 ...\n",
      "Validation Accuracy = 0.916\n",
      "\n",
      "EPOCH 13 ...\n",
      "Validation Accuracy = 0.908\n",
      "\n",
      "EPOCH 14 ...\n",
      "Validation Accuracy = 0.913\n",
      "\n",
      "EPOCH 15 ...\n",
      "Validation Accuracy = 0.909\n",
      "\n",
      "EPOCH 16 ...\n",
      "Validation Accuracy = 0.908\n",
      "\n",
      "EPOCH 17 ...\n",
      "Validation Accuracy = 0.922\n",
      "\n",
      "EPOCH 18 ...\n",
      "Validation Accuracy = 0.909\n",
      "\n",
      "EPOCH 19 ...\n",
      "Validation Accuracy = 0.909\n",
      "\n",
      "EPOCH 20 ...\n",
      "Validation Accuracy = 0.915\n",
      "\n",
      "EPOCH 21 ...\n",
      "Validation Accuracy = 0.920\n",
      "\n",
      "EPOCH 22 ...\n",
      "Validation Accuracy = 0.919\n",
      "\n",
      "EPOCH 23 ...\n",
      "Validation Accuracy = 0.922\n",
      "\n",
      "EPOCH 24 ...\n",
      "Validation Accuracy = 0.925\n",
      "\n",
      "EPOCH 25 ...\n",
      "Validation Accuracy = 0.921\n",
      "\n",
      "Model saved\n"
     ]
    }
   ],
   "source": [
    "with tf.Session() as sess:\n",
    "    sess.run(tf.global_variables_initializer())\n",
    "    num_examples = len(X_train)\n",
    "    \n",
    "    print(\"Training...\")\n",
    "    print()\n",
    "    for i in range(EPOCHS):\n",
    "        X_train, y_train = shuffle(X_train, y_train)\n",
    "        for offset in range(0, num_examples, BATCH_SIZE):\n",
    "            end = offset + BATCH_SIZE\n",
    "            batch_x, batch_y = X_train[offset:end], y_train[offset:end]\n",
    "            sess.run(training_operation, feed_dict={x: batch_x, y: batch_y, keep_prob : 0.7})\n",
    "            \n",
    "        validation_accuracy = evaluate(X_valid, y_valid)\n",
    "        print(\"EPOCH {} ...\".format(i+1))\n",
    "        print(\"Validation Accuracy = {:.3f}\".format(validation_accuracy))\n",
    "        print()\n",
    "        \n",
    "    saver.save(sess, './trafficclassifier')\n",
    "    print(\"Model saved\")"
   ]
  },
  {
   "cell_type": "markdown",
   "metadata": {},
   "source": [
    "###### Solution Approach\n",
    "\n",
    "With the base model taken from LeNet architecture, the model gives accuracy of 89%. So as to increase the accuracy of the model I tried to find the differences between this problem statement (classify traffic signs) with LeNet. One of the problem was that training data was not balanced which we fixed by generating more data for the corresponding classes. Another important thing was to add drop out to prevent overfitting of the model.\n",
    "\n",
    "Next accuracy reached around 91.5% with these changes. So i figured optimizing for the hyperparameters would help and that indeed helped. I played around with epoch, keep probability of drop out, Learning Rate, Batch Size. And current configuration gave me the best results. "
   ]
  },
  {
   "cell_type": "markdown",
   "metadata": {},
   "source": [
    "###### Report on Testing Data"
   ]
  },
  {
   "cell_type": "code",
   "execution_count": 30,
   "metadata": {},
   "outputs": [
    {
     "name": "stdout",
     "output_type": "stream",
     "text": [
      "Test Accuracy = 0.884\n"
     ]
    }
   ],
   "source": [
    "with tf.Session() as sess:\n",
    "    saver.restore(sess, tf.train.latest_checkpoint('.'))\n",
    "\n",
    "    test_accuracy = evaluate(X_test, y_test)\n",
    "    print(\"Test Accuracy = {:.3f}\".format(test_accuracy))"
   ]
  },
  {
   "cell_type": "markdown",
   "metadata": {},
   "source": [
    "---\n",
    "\n",
    "## Step 3: Test a Model on New Images\n",
    "\n",
    "To give yourself more insight into how your model is working, download at least five pictures of German traffic signs from the web and use your model to predict the traffic sign type.\n",
    "\n",
    "You may find `signnames.csv` useful as it contains mappings from the class id (integer) to the actual sign name."
   ]
  },
  {
   "cell_type": "markdown",
   "metadata": {},
   "source": [
    "### Load and Output the Images"
   ]
  },
  {
   "cell_type": "code",
   "execution_count": 31,
   "metadata": {},
   "outputs": [
    {
     "name": "stdout",
     "output_type": "stream",
     "text": [
      "Image Shape:  (32, 32, 3)\n"
     ]
    },
    {
     "data": {
      "image/png": "[encoded data removed]",
      "text/plain": [
       "<matplotlib.figure.Figure at 0x7f757053af60>"
      ]
     },
     "metadata": {},
     "output_type": "display_data"
    },
    {
     "name": "stdout",
     "output_type": "stream",
     "text": [
      "Image Shape:  (32, 32, 3)\n"
     ]
    },
    {
     "data": {
      "image/png": "[encoded data removed]",
      "text/plain": [
       "<matplotlib.figure.Figure at 0x7f7570292fd0>"
      ]
     },
     "metadata": {},
     "output_type": "display_data"
    },
    {
     "name": "stdout",
     "output_type": "stream",
     "text": [
      "Image Shape:  (32, 32, 3)\n"
     ]
    },
    {
     "data": {
      "image/png": "[encoded data removed]",
      "text/plain": [
       "<matplotlib.figure.Figure at 0x7f7563ee1c18>"
      ]
     },
     "metadata": {},
     "output_type": "display_data"
    },
    {
     "name": "stdout",
     "output_type": "stream",
     "text": [
      "Image Shape:  (32, 32, 3)\n"
     ]
    },
    {
     "data": {
      "image/png": "[encoded data removed]",
      "text/plain": [
       "<matplotlib.figure.Figure at 0x7f7570292eb8>"
      ]
     },
     "metadata": {},
     "output_type": "display_data"
    },
    {
     "name": "stdout",
     "output_type": "stream",
     "text": [
      "Image Shape:  (32, 32, 3)\n"
     ]
    },
    {
     "data": {
      "image/png": "[encoded data removed]",
      "text/plain": [
       "<matplotlib.figure.Figure at 0x7f7563ff6518>"
      ]
     },
     "metadata": {},
     "output_type": "display_data"
    },
    {
     "name": "stdout",
     "output_type": "stream",
     "text": [
      " New Test Data shape:  (5, 32, 32, 3)\n"
     ]
    }
   ],
   "source": [
    "### Load the images and plot them here.\n",
    "### Feel free to use as many code cells as needed.\n",
    "# GTSRB/Final_Test/Image - image location\n",
    "# Needs to read the images from the directory..\n",
    "\n",
    "#Ref: https://stackoverflow.com/questions/4101576/importing-ppm-images-with-python-and-pil-module\n",
    "from scipy.misc import imread\n",
    "\n",
    "\n",
    "newImages=[];\n",
    "for i in range(2,7):\n",
    "    imageName = \"0000\";\n",
    "    imageName=imageName+str(i)+'.ppm';\n",
    "    image = imread(imageName)\n",
    "    image = cv2.resize(image, (32,32))\n",
    "    print(\"Image Shape: \",image.shape);\n",
    "    newImages.append(image)\n",
    "    plt.imshow(image)\n",
    "    plt.show()\n",
    "\n",
    "newImages = np.array(newImages)\n",
    "print(\" New Test Data shape: \", newImages.shape)\n",
    "## preProcessing of these\n"
   ]
  },
  {
   "cell_type": "markdown",
   "metadata": {},
   "source": [
    "###### Acquiring New Images\n",
    "Downloaded the german dataset and copied first 10 images for the test set but would be using only first 5. The description of images are as follows:\n",
    "1. Keep right\n",
    "2. turn right\n",
    "3. Right-of-way at the next intersection\n",
    "4. keep right\n",
    "5. General Caution\n",
    "\n",
    "Problem with these images is they have pretty less resolution. Moreover the sizes of each of the image were different. So as part of normalization and for network to process the image, I resized them to 32*32*1 which again lead to some loss of the features. But since the test data chosen is pretty general in nature (e.g. speed sign with speed on it would be really difficult, as with each feature lost it would have lost some of the information) but our cases are quite general and model works decently on them."
   ]
  },
  {
   "cell_type": "markdown",
   "metadata": {},
   "source": [
    "### Predict the Sign Type for Each Image"
   ]
  },
  {
   "cell_type": "code",
   "execution_count": 32,
   "metadata": {},
   "outputs": [
    {
     "name": "stdout",
     "output_type": "stream",
     "text": [
      "#PreProcessing....\n",
      "#PreProcessing complete ...Shape   (5, 32, 32, 1)\n",
      "[[ -91.52598572  -45.36956406  -19.07280922  -25.93395424  -63.92874908\n",
      "   -25.99678421 -120.62067413  -73.44573212  -33.80703735  -17.57327461\n",
      "   -13.65610313  -59.00670242    1.55254161  -23.61117744  -23.52791214\n",
      "   -11.26070118  -68.70853424  -37.89386368  -83.95969391  -83.8508606\n",
      "    -7.93831921 -114.23210907  -62.70837402  -33.83887863 -106.32604218\n",
      "    -9.8211565   -61.64168167 -123.61574554  -35.55701065  -35.47094345\n",
      "   -93.35824585  -53.90933609  -24.6216526  -126.99468231  -34.49496841\n",
      "   -34.40723038  -43.81177139 -102.41687775   47.14641571  -89.71949768\n",
      "   -44.44931412  -27.10902214  -85.15719604]\n",
      " [ -12.17215443  -21.68449402  -23.92544365  -23.05381966  -21.0388546\n",
      "   -27.15561104  -67.32695007  -30.27405167  -40.76695633   -9.11277866\n",
      "   -11.58470821   -8.63482475   -4.72699547  -10.08189774   -0.71800268\n",
      "   -16.028759    -15.92474079  -10.72454929    2.16213989  -34.6456871\n",
      "   -30.88448143  -26.81210518  -31.6547184   -35.02925873  -45.39151764\n",
      "   -11.04582882    1.5706749   -25.6780014   -21.88643265  -29.25262642\n",
      "   -24.98367119  -25.13846397  -16.05765343   19.86465454  -15.49981499\n",
      "    -3.26876307  -38.53296661  -14.65140724  -25.52802277  -13.93014526\n",
      "   -16.92102623  -39.11731339  -53.64084625]\n",
      " [ -25.0356617   -18.98787498  -24.63970375  -29.87575722  -34.70484924\n",
      "   -33.28246307  -18.97026253  -29.0912323   -33.38171005  -36.87637711\n",
      "   -25.43151665   15.19714737   -5.30080652  -30.69118309  -38.51512527\n",
      "   -41.81246948  -21.86972046  -20.8776722    -6.1490922    -9.82123566\n",
      "   -18.38398743   -6.50496387  -42.05940247  -15.15660572  -21.15227318\n",
      "   -19.20751381  -10.51572418   -4.69663239   -9.63963127  -30.50183678\n",
      "     2.04957008  -17.59113121  -22.8379097   -18.69852638  -29.20830345\n",
      "   -23.78192329  -23.73333931  -32.0906105   -21.50906754  -48.3954277\n",
      "    -7.23450232  -14.00864697  -21.92362976]\n",
      " [ -75.04611969  -36.93373489  -15.61735153  -21.83896828  -53.11155319\n",
      "   -21.92020416  -98.85649872  -60.97595596  -26.96178436  -15.83164501\n",
      "   -12.3024044   -49.6230011     0.57741106  -20.38885117  -19.8685112\n",
      "   -10.31434441  -57.74869156  -32.19558716  -69.53235626  -69.88553619\n",
      "    -6.59569454  -94.66921234  -53.04185867  -28.11819649  -87.77050018\n",
      "    -8.32914257  -51.68876648 -102.36175537  -28.38504601  -29.63050652\n",
      "   -76.88089752  -43.54389191  -21.63326454 -106.58805084  -30.60668945\n",
      "   -29.85750008  -36.07178116  -86.41059113   39.45875549  -75.59361267\n",
      "   -36.436203    -23.31920815  -72.33345795]\n",
      " [ -16.10608864  -17.00182152  -45.9600563   -49.57448578  -23.43721581\n",
      "   -53.84157944  -91.88253784  -58.57471848  -67.26891327  -51.04207993\n",
      "   -42.29906845   -4.04265499  -14.41631126  -29.96467209  -14.45356369\n",
      "   -30.08194923  -43.99934387  -33.7962532    34.80464935  -58.94831848\n",
      "   -45.91360855  -40.60603333  -56.79075241  -55.33732224  -46.79115677\n",
      "   -18.44621658   13.1053915   -14.23370552  -41.49228287  -36.16817474\n",
      "   -33.80131149  -43.01166916  -36.84006119    4.07581806  -22.76248741\n",
      "   -11.15984344  -39.29454803  -14.9354105   -31.2033329   -43.44551849\n",
      "   -23.42273712  -60.67484665  -85.3482132 ]]\n"
     ]
    }
   ],
   "source": [
    "### Run the predictions here and use the model to output the prediction for each image.\n",
    "### Make sure to pre-process the images with the same pre-processing pipeline used earlier.\n",
    "### Feel free to use as many code cells as needed.\n",
    "print(\"#PreProcessing....\");\n",
    "Test = preprocessing(newImages);\n",
    "print(\"#PreProcessing complete ...Shape  \",Test.shape);\n",
    "\n",
    "\n",
    "with tf.Session() as sess:\n",
    "    saver.restore(sess, tf.train.latest_checkpoint('.'))\n",
    "\n",
    "    resultClasses = sess.run(logits, feed_dict={x: Test,keep_prob:1.0})\n",
    "print(resultClasses)\n",
    "\n"
   ]
  },
  {
   "cell_type": "markdown",
   "metadata": {},
   "source": [
    "### Analyze Performance"
   ]
  },
  {
   "cell_type": "code",
   "execution_count": 33,
   "metadata": {},
   "outputs": [
    {
     "name": "stdout",
     "output_type": "stream",
     "text": [
      "[38 33 11 37 18]\n",
      "Test New Images Accuracy = 0.800\n"
     ]
    }
   ],
   "source": [
    "### Calculate the accuracy for these 5 new images. \n",
    "### For example, if the model predicted 1 out of 5 signs correctly, it's 20% accurate on these new images.\n",
    "testsetLabels=[];\n",
    "testsetLabels.append(38); # keep right\n",
    "testsetLabels.append(33); # turn right\n",
    "testsetLabels.append(11); \n",
    "testsetLabels.append(37); \n",
    "testsetLabels.append(18); \n",
    "testSet = np.array(testsetLabels);\n",
    "print(testSet)\n",
    "\n",
    "\n",
    "with tf.Session() as sess:\n",
    "    saver.restore(sess, tf.train.latest_checkpoint('.'))\n",
    "\n",
    "    test_accuracy = evaluate(Test, testSet)\n",
    "    print(\"Test New Images Accuracy = {:.3f}\".format(test_accuracy))"
   ]
  },
  {
   "cell_type": "markdown",
   "metadata": {},
   "source": [
    "###### Accuracy on Unknown Data\n",
    "\n",
    "Model works decently well and gives 80% accuracy. To test the accuracy, I refered to CSV file and manually added labels for the test set. \n",
    "One of the reasons is the test set chosen is quite unique and based on the features it is easy to identify those signs. I would suspect that this model would not work that well on more complicated data e.g. speed sign to detect the speed. One of the improvements would be to get equal sized or generically crafted test set, since I modified it at my own will, there was definitely some loss in features and resolution which would cause model to degrade. Further increasing the epochs should also help."
   ]
  },
  {
   "cell_type": "markdown",
   "metadata": {},
   "source": [
    "### Output Top 5 Softmax Probabilities For Each Image Found on the Web"
   ]
  },
  {
   "cell_type": "markdown",
   "metadata": {},
   "source": [
    "For each of the new images, print out the model's softmax probabilities to show the **certainty** of the model's predictions (limit the output to the top 5 probabilities for each image). [`tf.nn.top_k`](https://www.tensorflow.org/versions/r0.12/api_docs/python/nn.html#top_k) could prove helpful here. \n",
    "\n",
    "The example below demonstrates how tf.nn.top_k can be used to find the top k predictions for each image.\n",
    "\n",
    "`tf.nn.top_k` will return the values and indices (class ids) of the top k predictions. So if k=3, for each sign, it'll return the 3 largest probabilities (out of a possible 43) and the correspoding class ids.\n",
    "\n",
    "Take this numpy array as an example. The values in the array represent predictions. The array contains softmax probabilities for five candidate images with six possible classes. `tf.nn.top_k` is used to choose the three classes with the highest probability:\n",
    "\n",
    "```\n",
    "# (5, 6) array\n",
    "a = np.array([[ 0.24879643,  0.07032244,  0.12641572,  0.34763842,  0.07893497,\n",
    "         0.12789202],\n",
    "       [ 0.28086119,  0.27569815,  0.08594638,  0.0178669 ,  0.18063401,\n",
    "         0.15899337],\n",
    "       [ 0.26076848,  0.23664738,  0.08020603,  0.07001922,  0.1134371 ,\n",
    "         0.23892179],\n",
    "       [ 0.11943333,  0.29198961,  0.02605103,  0.26234032,  0.1351348 ,\n",
    "         0.16505091],\n",
    "       [ 0.09561176,  0.34396535,  0.0643941 ,  0.16240774,  0.24206137,\n",
    "         0.09155967]])\n",
    "```\n",
    "\n",
    "Running it through `sess.run(tf.nn.top_k(tf.constant(a), k=3))` produces:\n",
    "\n",
    "```\n",
    "TopKV2(values=array([[ 0.34763842,  0.24879643,  0.12789202],\n",
    "       [ 0.28086119,  0.27569815,  0.18063401],\n",
    "       [ 0.26076848,  0.23892179,  0.23664738],\n",
    "       [ 0.29198961,  0.26234032,  0.16505091],\n",
    "       [ 0.34396535,  0.24206137,  0.16240774]]), indices=array([[3, 0, 5],\n",
    "       [0, 1, 4],\n",
    "       [0, 5, 1],\n",
    "       [1, 3, 5],\n",
    "       [1, 4, 3]], dtype=int32))\n",
    "```\n",
    "\n",
    "Looking just at the first row we get `[ 0.34763842,  0.24879643,  0.12789202]`, you can confirm these are the 3 largest probabilities in `a`. You'll also notice `[3, 0, 5]` are the corresponding indices."
   ]
  },
  {
   "cell_type": "code",
   "execution_count": 34,
   "metadata": {},
   "outputs": [
    {
     "name": "stdout",
     "output_type": "stream",
     "text": [
      "Top 5 Results for image: 0  are probabilities:  [  1.00000000e+00   1.58063391e-20   1.19399679e-24   1.81676257e-25\n",
      "   4.30637473e-26]  Classes are:  [38 12 20 25 15]\n",
      "Top 5 Results for image: 1  are probabilities:  [  1.00000000e+00   2.05066879e-08   1.13507763e-08   1.15097443e-09\n",
      "   8.98017077e-11]  Classes are:  [33 18 26 14 35]\n",
      "Top 5 Results for image: 2  are probabilities:  [  9.99998093e-01   1.95019902e-06   2.29213604e-09   1.25271160e-09\n",
      "   5.36346356e-10]  Classes are:  [11 30 27 12 18]\n",
      "Top 5 Results for image: 3  are probabilities:  [  1.00000000e+00   1.30030997e-17   9.97254682e-21   1.76189147e-21\n",
      "   2.42000640e-22]  Classes are:  [38 12 20 25 15]\n",
      "Top 5 Results for image: 4  are probabilities:  [  1.00000000e+00   3.76818715e-10   4.51479166e-14   1.34533267e-17\n",
      "   1.09112474e-20]  Classes are:  [18 26 33 11 35]\n"
     ]
    }
   ],
   "source": [
    "### Print out the top five softmax probabilities for the predictions on the German traffic sign images found on the web. \n",
    "### Feel free to use as many code cells as needed.\n",
    "\n",
    "soft = tf.nn.softmax(logits);\n",
    "with tf.Session() as sess:\n",
    "    saver.restore(sess, tf.train.latest_checkpoint('.'))\n",
    "    result =sess.run(soft, feed_dict={x: Test,keep_prob:1.0}) \n",
    "    top5Results = sess.run(tf.nn.top_k(result,k=5,sorted=True));\n",
    "   # topn = \n",
    "    \n",
    "#print(topn);\n",
    "for i in range(5):\n",
    "    print(\"Top 5 Results for image:\",i,\" are probabilities: \",top5Results[0][i], \" Classes are: \",top5Results[1][i])\n"
   ]
  },
  {
   "cell_type": "markdown",
   "metadata": {},
   "source": [
    "###### Top 5 classes and Probabilities\n",
    "The above result shows the models top 5 results for each example and also shows the classes corresponding to those probabilities.\n",
    "The model could not identify image 4 which was keep right. It was bit wierd because of the case was identified by it. This is of course lower than the accuracy of 85% achieved on the test data, but still would be fairly good for not having curated the images exactly like whomever did so on the original dataset."
   ]
  },
  {
   "cell_type": "markdown",
   "metadata": {},
   "source": [
    "### Project Writeup\n",
    "\n",
    "Once you have completed the code implementation, document your results in a project writeup using this [template](https://github.com/udacity/CarND-Traffic-Sign-Classifier-Project/blob/master/writeup_template.md) as a guide. The writeup can be in a markdown or pdf file. "
   ]
  },
  {
   "cell_type": "markdown",
   "metadata": {},
   "source": [
    "> **Note**: Once you have completed all of the code implementations and successfully answered each question above, you may finalize your work by exporting the iPython Notebook as an HTML document. You can do this by using the menu above and navigating to  \\n\",\n",
    "    \"**File -> Download as -> HTML (.html)**. Include the finished document along with this notebook as your submission."
   ]
  },
  {
   "cell_type": "markdown",
   "metadata": {},
   "source": [
    "---\n",
    "\n",
    "## Step 4 (Optional): Visualize the Neural Network's State with Test Images\n",
    "\n",
    " This Section is not required to complete but acts as an additional excersise for understaning the output of a neural network's weights. While neural networks can be a great learning device they are often referred to as a black box. We can understand what the weights of a neural network look like better by plotting their feature maps. After successfully training your neural network you can see what it's feature maps look like by plotting the output of the network's weight layers in response to a test stimuli image. From these plotted feature maps, it's possible to see what characteristics of an image the network finds interesting. For a sign, maybe the inner network feature maps react with high activation to the sign's boundary outline or to the contrast in the sign's painted symbol.\n",
    "\n",
    " Provided for you below is the function code that allows you to get the visualization output of any tensorflow weight layer you want. The inputs to the function should be a stimuli image, one used during training or a new one you provided, and then the tensorflow variable name that represents the layer's state during the training process, for instance if you wanted to see what the [LeNet lab's](https://classroom.udacity.com/nanodegrees/nd013/parts/fbf77062-5703-404e-b60c-95b78b2f3f9e/modules/6df7ae49-c61c-4bb2-a23e-6527e69209ec/lessons/601ae704-1035-4287-8b11-e2c2716217ad/concepts/d4aca031-508f-4e0b-b493-e7b706120f81) feature maps looked like for it's second convolutional layer you could enter conv2 as the tf_activation variable.\n",
    "\n",
    "For an example of what feature map outputs look like, check out NVIDIA's results in their paper [End-to-End Deep Learning for Self-Driving Cars](https://devblogs.nvidia.com/parallelforall/deep-learning-self-driving-cars/) in the section Visualization of internal CNN State. NVIDIA was able to show that their network's inner weights had high activations to road boundary lines by comparing feature maps from an image with a clear path to one without. Try experimenting with a similar test to show that your trained network's weights are looking for interesting features, whether it's looking at differences in feature maps from images with or without a sign, or even what feature maps look like in a trained network vs a completely untrained one on the same sign image.\n",
    "\n",
    "<figure>\n",
    " <img src=\"visualize_cnn.png\" width=\"380\" alt=\"Combined Image\" />\n",
    " <figcaption>\n",
    " <p></p> \n",
    " <p style=\"text-align: center;\"> Your output should look something like this (above)</p> \n",
    " </figcaption>\n",
    "</figure>\n",
    " <p></p> \n"
   ]
  },
  {
   "cell_type": "code",
   "execution_count": 35,
   "metadata": {
    "collapsed": true
   },
   "outputs": [],
   "source": [
    "### Visualize your network's feature maps here.\n",
    "### Feel free to use as many code cells as needed.\n",
    "\n",
    "# image_input: the test image being fed into the network to produce the feature maps\n",
    "# tf_activation: should be a tf variable name used during your training procedure that represents the calculated state of a specific weight layer\n",
    "# activation_min/max: can be used to view the activation contrast in more detail, by default matplot sets min and max to the actual min and max values of the output\n",
    "# plt_num: used to plot out multiple different weight feature map sets on the same block, just extend the plt number for each new feature map entry\n",
    "\n",
    "def outputFeatureMap(image_input, tf_activation, activation_min=-1, activation_max=-1 ,plt_num=1):\n",
    "    # Here make sure to preprocess your image_input in a way your network expects\n",
    "    # with size, normalization, ect if needed\n",
    "    # image_input =\n",
    "    # Note: x should be the same name as your network's tensorflow data placeholder variable\n",
    "    # If you get an error tf_activation is not defined it may be having trouble accessing the variable from inside a function\n",
    "    activation = tf_activation.eval(session=sess,feed_dict={x : image_input})\n",
    "    featuremaps = activation.shape[3]\n",
    "    plt.figure(plt_num, figsize=(15,15))\n",
    "    for featuremap in range(featuremaps):\n",
    "        plt.subplot(6,8, featuremap+1) # sets the number of feature maps to show on each row and column\n",
    "        plt.title('FeatureMap ' + str(featuremap)) # displays the feature map number\n",
    "        if activation_min != -1 & activation_max != -1:\n",
    "            plt.imshow(activation[0,:,:, featuremap], interpolation=\"nearest\", vmin =activation_min, vmax=activation_max, cmap=\"gray\")\n",
    "        elif activation_max != -1:\n",
    "            plt.imshow(activation[0,:,:, featuremap], interpolation=\"nearest\", vmax=activation_max, cmap=\"gray\")\n",
    "        elif activation_min !=-1:\n",
    "            plt.imshow(activation[0,:,:, featuremap], interpolation=\"nearest\", vmin=activation_min, cmap=\"gray\")\n",
    "        else:\n",
    "            plt.imshow(activation[0,:,:, featuremap], interpolation=\"nearest\", cmap=\"gray\")"
   ]
  },
  {
   "cell_type": "code",
   "execution_count": null,
   "metadata": {
    "collapsed": true
   },
   "outputs": [],
   "source": []
  }
 ],
 "metadata": {
  "anaconda-cloud": {},
  "kernelspec": {
   "display_name": "Python 3",
   "language": "python",
   "name": "python3"
  },
  "language_info": {
   "codemirror_mode": {
    "name": "ipython",
    "version": 3
   },
   "file_extension": ".py",
   "mimetype": "text/x-python",
   "name": "python",
   "nbconvert_exporter": "python",
   "pygments_lexer": "ipython3",
   "version": "3.5.2"
  },
  "widgets": {
   "state": {},
   "version": "1.1.2"
  }
 },
 "nbformat": 4,
 "nbformat_minor": 1
}
